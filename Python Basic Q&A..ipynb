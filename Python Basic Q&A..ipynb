{
 "cells": [
  {
   "cell_type": "markdown",
   "id": "609c7299",
   "metadata": {},
   "source": [
    "1. What is the primary goal of Object-Oriented Programming (OOP)?\n",
    "\n",
    "The primary goal of Object-Oriented Programming (OOP) is to provide a structured approach for designing and building software systems. OOP aims to organize code into reusable, modular units called objects, which are instances of classes. The key principles of OOP include encapsulation, inheritance, and polymorphism."
   ]
  },
  {
   "cell_type": "code",
   "execution_count": null,
   "id": "28aa1468",
   "metadata": {},
   "outputs": [],
   "source": []
  },
  {
   "cell_type": "markdown",
   "id": "c0213e06",
   "metadata": {},
   "source": [
    "2. What is an object in Python?\n",
    "\n",
    "In Python, an object is a fundamental concept that represents a specific instance of a class. It is a runtime entity that encapsulates data (attributes) and behavior (methods) into a single entity. Objects are created based on their class, which serves as a blueprint or template.\n",
    "When you create an object, you are creating a unique instance of that class, with its own set of data and behavior. The data within an object is stored in attributes, which can be variables or other objects. The behavior is defined by methods, which are functions associated with the object."
   ]
  },
  {
   "cell_type": "code",
   "execution_count": 1,
   "id": "c3e269ec",
   "metadata": {},
   "outputs": [
    {
     "name": "stdout",
     "output_type": "stream",
     "text": [
      "Toyota\n",
      "Mustang\n",
      "The Toyota Camry is driving.\n",
      "The Ford Mustang is driving.\n"
     ]
    }
   ],
   "source": [
    "class Car:\n",
    "    def __init__(self, brand, model):\n",
    "        self.brand = brand\n",
    "        self.model = model\n",
    "\n",
    "    def drive(self):\n",
    "        print(f\"The {self.brand} {self.model} is driving.\")\n",
    "\n",
    "# Creating objects (instances) of the Car class\n",
    "car1 = Car(\"Toyota\", \"Camry\")\n",
    "car2 = Car(\"Ford\", \"Mustang\")\n",
    "\n",
    "# Accessing attributes and invoking methods of objects\n",
    "print(car1.brand)        # Output: Toyota\n",
    "print(car2.model)        # Output: Mustang\n",
    "car1.drive()             # Output: The Toyota Camry is driving.\n",
    "car2.drive() "
   ]
  },
  {
   "cell_type": "code",
   "execution_count": null,
   "id": "983274da",
   "metadata": {},
   "outputs": [],
   "source": []
  },
  {
   "cell_type": "markdown",
   "id": "8ee08534",
   "metadata": {},
   "source": [
    "3. What is a class in Python?\n",
    "\n",
    "In Python, a class is a blueprint or a template for creating objects (instances) of that class. It serves as a way to define the structure and behavior of objects. A class encapsulates data (attributes) and functions (methods) that operate on that data."
   ]
  },
  {
   "cell_type": "code",
   "execution_count": 2,
   "id": "f374fdca",
   "metadata": {},
   "outputs": [],
   "source": [
    "class Car:\n",
    "    def __init__(self, brand, color):\n",
    "        self.brand = brand\n",
    "        self.color = color\n",
    "    \n",
    "    def start_engine(self):\n",
    "        print(f\"The {self.color} {self.brand} car's engine is started.\")"
   ]
  },
  {
   "cell_type": "markdown",
   "id": "033bf4b4",
   "metadata": {},
   "source": [
    "In this example, the Car class has two attributes (brand and color) and one method (start_engine). The __init__ method is a special method called the constructor, which is used to initialize the object's attributes when an instance of the class is created.\n",
    "\n",
    "To create an object (instance) of the Car class, we can do the following:"
   ]
  },
  {
   "cell_type": "code",
   "execution_count": 3,
   "id": "093fa80e",
   "metadata": {},
   "outputs": [],
   "source": [
    "my_car = Car(\"Toyota\", \"red\")"
   ]
  },
  {
   "cell_type": "code",
   "execution_count": 4,
   "id": "9a9f4240",
   "metadata": {},
   "outputs": [
    {
     "name": "stdout",
     "output_type": "stream",
     "text": [
      "Toyota\n",
      "red\n",
      "The red Toyota car's engine is started.\n"
     ]
    }
   ],
   "source": [
    "#Now, my_car is an instance of the Car class, and we can access its attributes and call its methods:\n",
    "\n",
    "print(my_car.brand)  # Output: Toyota\n",
    "print(my_car.color)  # Output: red\n",
    "my_car.start_engine()  # Output: The red Toyota car's engine is started."
   ]
  },
  {
   "cell_type": "code",
   "execution_count": null,
   "id": "97d096e6",
   "metadata": {},
   "outputs": [],
   "source": []
  },
  {
   "cell_type": "markdown",
   "id": "0e5e62ce",
   "metadata": {},
   "source": [
    "4. What are attributes and methods in a class?\n",
    "\n",
    "In object-oriented programming, a class is a blueprint for creating objects (instances) that encapsulate data and behavior. Attributes and methods are the two main components of a class.\n",
    "\n",
    "Attributes:\n",
    "    \n",
    "Attributes, also known as instance variables or member variables, are the data associated with an object. They represent the state or characteristics of an object. Each instance of a class has its own set of attribute values. Attributes can store different types of data such as numbers, strings, booleans, or even other objects. For example, in a class representing a car, attributes could include \"color,\" \"make,\" \"model,\" and \"year.\"\n",
    "\n",
    "Here's an example of a Python class with attributes:\n"
   ]
  },
  {
   "cell_type": "code",
   "execution_count": 6,
   "id": "99cb3ade",
   "metadata": {},
   "outputs": [],
   "source": [
    "class Car:\n",
    "    def __init__(self, color, make, model, year):\n",
    "        self.color = color\n",
    "        self.make = make\n",
    "        self.model = model\n",
    "        self.year = year"
   ]
  },
  {
   "cell_type": "markdown",
   "id": "7a897390",
   "metadata": {},
   "source": [
    "In this example, the Car class has four attributes: color, make, model, and year. Each attribute is initialized using the __init__ method, which is a special method in Python classes."
   ]
  },
  {
   "cell_type": "markdown",
   "id": "fb8c8a57",
   "metadata": {},
   "source": [
    "Methods:\n",
    "    \n",
    "Methods are functions defined within a class that define the behavior or actions that an object can perform. They operate on the object's data (attributes) and can modify or retrieve it. Methods are also sometimes referred to as member functions. They allow objects to interact with their own data and perform specific operations.\n",
    "\n",
    "Continuing with the Car class example, let's add a method called start():"
   ]
  },
  {
   "cell_type": "code",
   "execution_count": 7,
   "id": "3eb13e97",
   "metadata": {},
   "outputs": [],
   "source": [
    "class Car:\n",
    "    def __init__(self, color, make, model, year):\n",
    "        self.color = color\n",
    "        self.make = make\n",
    "        self.model = model\n",
    "        self.year = year\n",
    "    \n",
    "    def start(self):\n",
    "        print(\"The car is starting...\")"
   ]
  },
  {
   "cell_type": "markdown",
   "id": "66e369d5",
   "metadata": {},
   "source": [
    "In this updated example, the start() method is defined within the Car class. It takes one parameter, self, which represents the instance of the class. Inside the method, we simply print a message indicating that the car is starting.\n",
    "\n",
    "To create an instance of the Car class and call its methods, you would do the following:"
   ]
  },
  {
   "cell_type": "code",
   "execution_count": 8,
   "id": "6560b515",
   "metadata": {},
   "outputs": [
    {
     "name": "stdout",
     "output_type": "stream",
     "text": [
      "Red\n",
      "Toyota\n",
      "The car is starting...\n"
     ]
    }
   ],
   "source": [
    "my_car = Car(\"Red\", \"Toyota\", \"Camry\", 2022)\n",
    "print(my_car.color)  # Output: Red\n",
    "print(my_car.make)   # Output: Toyota\n",
    "\n",
    "my_car.start()       # Output: The car is starting..."
   ]
  },
  {
   "cell_type": "markdown",
   "id": "c7fbd251",
   "metadata": {},
   "source": [
    "In this example, my_car is an instance of the Car class with the specified attribute values. You can access its attributes using dot notation (my_car.color, my_car.make, etc.), and you can call its methods using the same dot notation (my_car.start())."
   ]
  },
  {
   "cell_type": "code",
   "execution_count": null,
   "id": "3e8272c7",
   "metadata": {},
   "outputs": [],
   "source": []
  },
  {
   "cell_type": "markdown",
   "id": "c2cdf0fd",
   "metadata": {},
   "source": [
    "5. What is the difference between class variables and instance variables in Python?\n",
    "\n",
    "In Python, class variables and instance variables are two types of variables that are used within classes, but they have different scopes and purposes.\n",
    "\n",
    "(1). Class Variables:\n",
    "\n",
    ".Class variables are defined within the class but outside any method, constructor, or instance.\n",
    "\n",
    ".They are shared by all instances (objects) of the class.\n",
    "\n",
    ".Class variables are declared using the class name and are the same for every instance of the class.\n",
    "\n",
    ".They are typically used to store attributes or values that are common to all instances.\n",
    "\n",
    ".Class variables are accessed using the class name itself or through any instance of the class.\n",
    "\n",
    ".If a class variable is modified, the change is reflected in all instances of the class.\n",
    "\n",
    "(2). Instance Variables:\n",
    "\n",
    ". Instance variables are unique to each instance (object) of the class.\n",
    "\n",
    ". They are declared inside the class's methods, constructor, or instance itself using the self keyword.\n",
    "\n",
    ". Instance variables represent the specific attributes or state of each instance.\n",
    "\n",
    ". Each instance of the class has its own separate copy of instance variables.\n",
    "Instance variables are accessed and modified through the specific instance they belong to (using the self reference).\n",
    "\n",
    ". Changes made to instance variables are local to that instance and do not affect other instances of the class.\n",
    "\n",
    "Here's an example to illustrate the difference between class variables and instance variables:"
   ]
  },
  {
   "cell_type": "code",
   "execution_count": 1,
   "id": "a4843b28",
   "metadata": {},
   "outputs": [
    {
     "name": "stdout",
     "output_type": "stream",
     "text": [
      "This is a class variable\n",
      "Instance Variable 1\n",
      "Instance Variable 2\n",
      "Modified class variable\n",
      "Modified instance variable\n",
      "Instance Variable 2\n"
     ]
    }
   ],
   "source": [
    "class MyClass:\n",
    "    class_variable = \"This is a class variable\"\n",
    "\n",
    "    def __init__(self, instance_variable):\n",
    "        self.instance_variable = instance_variable\n",
    "\n",
    "# Accessing class variable\n",
    "print(MyClass.class_variable)  # Output: This is a class variable\n",
    "\n",
    "# Creating instances and accessing instance variables\n",
    "obj1 = MyClass(\"Instance Variable 1\")\n",
    "obj2 = MyClass(\"Instance Variable 2\")\n",
    "\n",
    "print(obj1.instance_variable)  # Output: Instance Variable 1\n",
    "print(obj2.instance_variable)  # Output: Instance Variable 2\n",
    "\n",
    "# Modifying class variable\n",
    "MyClass.class_variable = \"Modified class variable\"\n",
    "\n",
    "# Modifying instance variable\n",
    "obj1.instance_variable = \"Modified instance variable\"\n",
    "\n",
    "print(MyClass.class_variable)  # Output: Modified class variable\n",
    "print(obj1.instance_variable)  # Output: Modified instance variable\n",
    "print(obj2.instance_variable)  # Output: Instance Variable 2 (not affected by the change)"
   ]
  },
  {
   "cell_type": "markdown",
   "id": "f226dc00",
   "metadata": {},
   "source": [
    "In the example above, class_variable is a class variable that is shared by all instances of the class. Each instance (obj1 and obj2) has its own separate instance_variable, which can have different values. Modifying the class variable affects all instances, while modifying the instance variable is specific to that particular instance."
   ]
  },
  {
   "cell_type": "code",
   "execution_count": 5,
   "id": "d406fc4d",
   "metadata": {},
   "outputs": [
    {
     "name": "stdout",
     "output_type": "stream",
     "text": [
      "0\n",
      "10\n",
      "5\n",
      "30\n"
     ]
    }
   ],
   "source": [
    "class MyClass:\n",
    "    class_variable = 0  # Class variable\n",
    "    \n",
    "    def __init__(self, instance_variable):\n",
    "        self.instance_variable = instance_variable  # Instance variable\n",
    "\n",
    "# Accessing class variable\n",
    "print(MyClass.class_variable)  # Output: 0\n",
    "\n",
    "# Accessing instance variable\n",
    "obj1 = MyClass(10)\n",
    "print(obj1.instance_variable)  # Output: 10\n",
    "\n",
    "# Modifying class variable\n",
    "MyClass.class_variable = 5\n",
    "\n",
    "# Modifying instance variable\n",
    "obj2 = MyClass(20)\n",
    "obj2.instance_variable = 30\n",
    "\n",
    "# Accessing modified class variable through an instance\n",
    "print(obj1.class_variable)  # Output: 5\n",
    "\n",
    "# Accessing modified instance variable\n",
    "print(obj2.instance_variable)  # Output: 30"
   ]
  },
  {
   "cell_type": "markdown",
   "id": "f98f34b2",
   "metadata": {},
   "source": [
    "In the example above, class_variable is a class variable that is shared among all instances of the MyClass class. instance_variable is an instance variable that is unique to each instance of the class."
   ]
  },
  {
   "cell_type": "code",
   "execution_count": null,
   "id": "681a1475",
   "metadata": {},
   "outputs": [],
   "source": []
  },
  {
   "cell_type": "markdown",
   "id": "87a2d726",
   "metadata": {},
   "source": [
    "6. What is the purpose of the self parameter in Python class methods?\n",
    "\n",
    "In Python, the self parameter in class methods represents the instance of the class. It is a convention to name the first parameter of instance methods as self, although you can choose any valid name for it.\n",
    "\n",
    "When you define a class and create objects (instances) of that class, the self parameter allows you to access and modify the instance's attributes and methods. It acts as a reference to the specific instance on which the method is being called.\n",
    "\n",
    "By using the self parameter, you can access the instance variables and other methods within the class. It provides a way for methods to interact with the specific instance they are being called on. For example, if you have a class called Person with a method called introduce, you can access the instance's attributes like self.name or self.age within that method to provide personalized information about the person."
   ]
  },
  {
   "cell_type": "code",
   "execution_count": 2,
   "id": "2723defe",
   "metadata": {},
   "outputs": [
    {
     "name": "stdout",
     "output_type": "stream",
     "text": [
      "Hello, my name is Dennis\n"
     ]
    }
   ],
   "source": [
    "class Person:\n",
    "    def __init__(self, name):\n",
    "        self.name = name\n",
    "    \n",
    "    def say_hello(self):\n",
    "        print(\"Hello, my name is\", self.name)\n",
    "\n",
    "# Create an instance of the Person class\n",
    "person = Person(\"Dennis\")\n",
    "\n",
    "# Call the say_hello method on the person instance\n",
    "person.say_hello()"
   ]
  },
  {
   "cell_type": "code",
   "execution_count": null,
   "id": "478f054e",
   "metadata": {},
   "outputs": [],
   "source": []
  },
  {
   "cell_type": "code",
   "execution_count": null,
   "id": "71ce582d",
   "metadata": {},
   "outputs": [],
   "source": [
    "7. For a library management system, you have to design the \"Book\" class with OOP principles in mind. The “Book” class will have following attributes: \n",
    "    \n",
    "    a. title: Represents the title of the book. \n",
    "        \n",
    "    b. author: Represents the author(s) of the book.\n",
    "        \n",
    "    c. isbn: Represents the ISBN (International Standard Book Number) of the book.\n",
    "        \n",
    "    d. publication_year: Represents the year of publication of the book. \n",
    "        \n",
    "    e. available_copies: Represents the number of copies available for checkout.\n",
    "        \n",
    "        The class will also include the following methods: \n",
    "            \n",
    "    a. check_out(self): Decrements the available copies by one if there are copies available for checkout. \n",
    "        \n",
    "    b. return_book(self): Increments the available copies by one when a book is returned.\n",
    "        \n",
    "    c. display_book_info(self): Displays the information about the book, including its attributes and the number of available copies.\n"
   ]
  },
  {
   "cell_type": "code",
   "execution_count": 3,
   "id": "bb082705",
   "metadata": {},
   "outputs": [
    {
     "name": "stdout",
     "output_type": "stream",
     "text": [
      "Title: The Great Gatsby\n",
      "Author(s): F. Scott Fitzgerald\n",
      "ISBN: 978-3-16-148410-0\n",
      "Publication Year: 1925\n",
      "Available Copies: 3\n",
      "Book checked out successfully.\n",
      "Book returned successfully.\n",
      "Title: The Great Gatsby\n",
      "Author(s): F. Scott Fitzgerald\n",
      "ISBN: 978-3-16-148410-0\n",
      "Publication Year: 1925\n",
      "Available Copies: 3\n"
     ]
    }
   ],
   "source": [
    "class Book:\n",
    "    def __init__(self, title, author, isbn, publication_year, available_copies):\n",
    "        self.title = title\n",
    "        self.author = author\n",
    "        self.isbn = isbn\n",
    "        self.publication_year = publication_year\n",
    "        self.available_copies = available_copies\n",
    "\n",
    "    def check_out(self):\n",
    "        if self.available_copies > 0:\n",
    "            self.available_copies -= 1\n",
    "            print(\"Book checked out successfully.\")\n",
    "        else:\n",
    "            print(\"No copies of this book are currently available for checkout.\")\n",
    "\n",
    "    def return_book(self):\n",
    "        self.available_copies += 1\n",
    "        print(\"Book returned successfully.\")\n",
    "\n",
    "    def display_book_info(self):\n",
    "        print(\"Title:\", self.title)\n",
    "        print(\"Author(s):\", self.author)\n",
    "        print(\"ISBN:\", self.isbn)\n",
    "        print(\"Publication Year:\", self.publication_year)\n",
    "        print(\"Available Copies:\", self.available_copies)\n",
    "        \n",
    "# Create a book instance\n",
    "book1 = Book(\"The Great Gatsby\", \"F. Scott Fitzgerald\", \"978-3-16-148410-0\", 1925, 3)\n",
    "\n",
    "# Display book information\n",
    "book1.display_book_info()\n",
    "\n",
    "# Check out the book\n",
    "book1.check_out()\n",
    "\n",
    "# Return the book\n",
    "book1.return_book()\n",
    "\n",
    "# Display updated book information\n",
    "book1.display_book_info()"
   ]
  },
  {
   "cell_type": "code",
   "execution_count": null,
   "id": "59e175b8",
   "metadata": {},
   "outputs": [],
   "source": []
  },
  {
   "cell_type": "markdown",
   "id": "6bc453c0",
   "metadata": {},
   "source": [
    "8. For a ticket booking system, you have to design the \"Ticket\" class with OOP principles in mind. The “Ticket” class should have the following attributes: \n",
    "    \n",
    "a. ticket_id: Represents the unique identifier for the ticket. \n",
    "    \n",
    "b. event_name: Represents the name of the event. \n",
    "    \n",
    "c. event_date: Represents the date of the event.\n",
    "    \n",
    "d. venue: Represents the venue of the event. \n",
    "    \n",
    "e. seat_number: Represents the seat number associated with the ticket.\n",
    "    \n",
    "f. price: Represents the price of the ticket. \n",
    "    \n",
    "g. is_reserved: Represents the reservation status of the ticket. \n",
    "    \n",
    "    The class also includes the following methods: \n",
    "        \n",
    "a. reserve_ticket(self): Marks the ticket as reserved if it is not already reserved. \n",
    "    \n",
    "b. cancel_reservation(self): Cancels the reservation of the ticket if it is already reserved. \n",
    "    \n",
    "c. display_ticket_info(self): Displays the information about the ticket, including its attributes and reservation status.\n"
   ]
  },
  {
   "cell_type": "code",
   "execution_count": 4,
   "id": "8d21d1af",
   "metadata": {},
   "outputs": [
    {
     "name": "stdout",
     "output_type": "stream",
     "text": [
      "Ticket ID: 1\n",
      "Event Name: Concert\n",
      "Event Date: 2023-07-10\n",
      "Venue: ABC Arena\n",
      "Seat Number: A12\n",
      "Price: 50.0\n",
      "Reservation Status: Not Reserved\n",
      "Ticket reserved successfully.\n",
      "Ticket reservation canceled successfully.\n",
      "Ticket reserved successfully.\n",
      "Ticket ID: 1\n",
      "Event Name: Concert\n",
      "Event Date: 2023-07-10\n",
      "Venue: ABC Arena\n",
      "Seat Number: A12\n",
      "Price: 50.0\n",
      "Reservation Status: Reserved\n"
     ]
    }
   ],
   "source": [
    "class Ticket:\n",
    "    def __init__(self, ticket_id, event_name, event_date, venue, seat_number, price):\n",
    "        self.ticket_id = ticket_id\n",
    "        self.event_name = event_name\n",
    "        self.event_date = event_date\n",
    "        self.venue = venue\n",
    "        self.seat_number = seat_number\n",
    "        self.price = price\n",
    "        self.is_reserved = False\n",
    "\n",
    "    def reserve_ticket(self):\n",
    "        if not self.is_reserved:\n",
    "            self.is_reserved = True\n",
    "            print(\"Ticket reserved successfully.\")\n",
    "        else:\n",
    "            print(\"Ticket is already reserved.\")\n",
    "\n",
    "    def cancel_reservation(self):\n",
    "        if self.is_reserved:\n",
    "            self.is_reserved = False\n",
    "            print(\"Ticket reservation canceled successfully.\")\n",
    "        else:\n",
    "            print(\"Ticket is not currently reserved.\")\n",
    "\n",
    "    def display_ticket_info(self):\n",
    "        print(\"Ticket ID:\", self.ticket_id)\n",
    "        print(\"Event Name:\", self.event_name)\n",
    "        print(\"Event Date:\", self.event_date)\n",
    "        print(\"Venue:\", self.venue)\n",
    "        print(\"Seat Number:\", self.seat_number)\n",
    "        print(\"Price:\", self.price)\n",
    "        print(\"Reservation Status:\", \"Reserved\" if self.is_reserved else \"Not Reserved\")\n",
    "\n",
    "# Create a ticket instance\n",
    "ticket1 = Ticket(1, \"Concert\", \"2023-07-10\", \"ABC Arena\", \"A12\", 50.0)\n",
    "\n",
    "# Display ticket information\n",
    "ticket1.display_ticket_info()\n",
    "\n",
    "# Reserve the ticket\n",
    "ticket1.reserve_ticket()\n",
    "\n",
    "# Cancel the reservation\n",
    "ticket1.cancel_reservation()\n",
    "\n",
    "# Reserve the ticket again\n",
    "ticket1.reserve_ticket()\n",
    "\n",
    "# Display ticket information after reservation\n",
    "ticket1.display_ticket_info()"
   ]
  },
  {
   "cell_type": "code",
   "execution_count": null,
   "id": "024f3730",
   "metadata": {},
   "outputs": [],
   "source": []
  },
  {
   "cell_type": "markdown",
   "id": "e732fd21",
   "metadata": {},
   "source": [
    "9. You are creating a shopping cart for an e-commerce website. Using OOP to model the \"ShoppingCart\" functionality the class should contain following attributes and methods: a. items: Represents the list of items in the shopping cart. The class also includes the following methods:\n",
    "\n",
    "a. add_item(self, item): Adds an item to the shopping cart by appending it to the list of items. \n",
    "    \n",
    "b. remove_item(self, item): Removes an item from the shopping cart if it exists in the list. \n",
    "    \n",
    "c. view_cart(self): Displays the items currently present in the shopping cart. \n",
    "    \n",
    "d. clear_cart(self): Clears all items from the shopping cart by reassigning an empty list to the items attribute."
   ]
  },
  {
   "cell_type": "code",
   "execution_count": 11,
   "id": "2332ade8",
   "metadata": {},
   "outputs": [
    {
     "name": "stdout",
     "output_type": "stream",
     "text": [
      "Items in the shopping cart:\n",
      "Item 1\n",
      "Item 2\n",
      "Item 3\n",
      "Items in the shopping cart:\n",
      "Item 1\n",
      "Item 3\n",
      "The shopping cart is empty.\n"
     ]
    }
   ],
   "source": [
    "class ShoppingCart:\n",
    "    def __init__(self):\n",
    "        self.items = []\n",
    "\n",
    "    def add_item(self, item):\n",
    "        self.items.append(item)\n",
    "\n",
    "    def remove_item(self, item):\n",
    "        if item in self.items:\n",
    "            self.items.remove(item)\n",
    "\n",
    "    def view_cart(self):\n",
    "        if self.items:\n",
    "            print(\"Items in the shopping cart:\")\n",
    "            for item in self.items:\n",
    "                print(item)\n",
    "        else:\n",
    "            print(\"The shopping cart is empty.\")\n",
    "\n",
    "    def clear_cart(self):\n",
    "        self.items = []\n",
    "\n",
    "# Example usage:\n",
    "cart = ShoppingCart()\n",
    "cart.add_item(\"Item 1\")\n",
    "cart.add_item(\"Item 2\")\n",
    "cart.add_item(\"Item 3\")\n",
    "cart.view_cart()\n",
    "# Output: Items in the shopping cart:\n",
    "# Item 1\n",
    "# Item 2\n",
    "# Item 3\n",
    "\n",
    "cart.remove_item(\"Item 2\")\n",
    "cart.view_cart()\n",
    "# Output: Items in the shopping cart:\n",
    "# Item 1\n",
    "# Item 3\n",
    "\n",
    "cart.clear_cart()\n",
    "cart.view_cart()\n",
    "# Output: The shopping cart is empty."
   ]
  },
  {
   "cell_type": "code",
   "execution_count": null,
   "id": "5319f977",
   "metadata": {},
   "outputs": [],
   "source": []
  },
  {
   "cell_type": "markdown",
   "id": "0d202b7e",
   "metadata": {},
   "source": [
    "10.Imagine a school management system. You have to design the \"Student\" class using OOP concepts.The “Student” class has the following attributes: \n",
    "    \n",
    "a. name: Represents the name of the student. \n",
    "    \n",
    "b. age: Represents the age of the student. \n",
    "    \n",
    "c. grade: Represents the grade or class of the student. \n",
    "    \n",
    "d. student_id: Represents the unique identifier for the student. \n",
    "    \n",
    "e. attendance: Represents the attendance record of the student. \n",
    "    \n",
    "    The class should also include the following methods: \n",
    "        \n",
    "a. update_attendance(self, date, status): Updates the attendance record of the student for a given date with the provided status (e.g., present or absent). \n",
    "    \n",
    "b. get_attendance(self): Returns the attendance record of the student. \n",
    "    \n",
    "c. get_average_attendance(self): Calculates and returns the average attendance percentage of the student based on their attendance record.\n"
   ]
  },
  {
   "cell_type": "code",
   "execution_count": 5,
   "id": "f46a6382",
   "metadata": {},
   "outputs": [
    {
     "name": "stdout",
     "output_type": "stream",
     "text": [
      "{'2023-07-01': 'present', '2023-07-02': 'absent', '2023-07-03': 'present'}\n",
      "Average Attendance: 66.66666666666666%\n"
     ]
    }
   ],
   "source": [
    "class Student:\n",
    "    def __init__(self, name, age, grade, student_id):\n",
    "        self.name = name\n",
    "        self.age = age\n",
    "        self.grade = grade\n",
    "        self.student_id = student_id\n",
    "        self.attendance = {}\n",
    "\n",
    "    def update_attendance(self, date, status):\n",
    "        self.attendance[date] = status\n",
    "\n",
    "    def get_attendance(self):\n",
    "        return self.attendance\n",
    "\n",
    "    def get_average_attendance(self):\n",
    "        total_days = len(self.attendance)\n",
    "        present_days = sum(status == 'present' for status in self.attendance.values())\n",
    "        attendance_percentage = (present_days / total_days) * 100 if total_days > 0 else 0\n",
    "        return attendance_percentage\n",
    "    \n",
    "# Create a student object\n",
    "student = Student(\"John Doe\", 15, \"10th grade\", \"S12345\")\n",
    "\n",
    "# Update attendance\n",
    "student.update_attendance(\"2023-07-01\", \"present\")\n",
    "student.update_attendance(\"2023-07-02\", \"absent\")\n",
    "student.update_attendance(\"2023-07-03\", \"present\")\n",
    "\n",
    "# Get attendance record\n",
    "attendance_record = student.get_attendance()\n",
    "print(attendance_record)\n",
    "\n",
    "# Get average attendance\n",
    "average_attendance = student.get_average_attendance()\n",
    "print(f\"Average Attendance: {average_attendance}%\")"
   ]
  },
  {
   "cell_type": "code",
   "execution_count": null,
   "id": "7c1da176",
   "metadata": {},
   "outputs": [],
   "source": []
  }
 ],
 "metadata": {
  "kernelspec": {
   "display_name": "Python 3 (ipykernel)",
   "language": "python",
   "name": "python3"
  },
  "language_info": {
   "codemirror_mode": {
    "name": "ipython",
    "version": 3
   },
   "file_extension": ".py",
   "mimetype": "text/x-python",
   "name": "python",
   "nbconvert_exporter": "python",
   "pygments_lexer": "ipython3",
   "version": "3.10.9"
  }
 },
 "nbformat": 4,
 "nbformat_minor": 5
}
